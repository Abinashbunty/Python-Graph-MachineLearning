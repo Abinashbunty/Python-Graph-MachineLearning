{
 "cells": [
  {
   "cell_type": "markdown",
   "metadata": {},
   "source": [
    "# Binary search tree"
   ]
  },
  {
   "cell_type": "code",
   "execution_count": 1,
   "metadata": {},
   "outputs": [],
   "source": [
    "    def inOrderTraversal(this,root):\n",
    "        arr = []\n",
    "        if root:\n",
    "            arr = this.inOrderTraversal(root.left)\n",
    "            arr.append(root.val)\n",
    "            arr = arr + this.inOrderTraversal(root.right)\n",
    "        return arr"
   ]
  },
  {
   "cell_type": "code",
   "execution_count": 2,
   "metadata": {},
   "outputs": [],
   "source": [
    "from collections import deque\n",
    "class BST():\n",
    "    def __init__(this,val):\n",
    "        this.left = None\n",
    "        this.right = None\n",
    "        this.val = val\n",
    "        \n",
    "    def addNode(this,val):\n",
    "        if this.val:\n",
    "            if val < this.val:\n",
    "                if this.left:\n",
    "                    this.left.addNode(val)\n",
    "                else:\n",
    "                    this.left = BST(val)\n",
    "            if val > this.val:\n",
    "                if this.right:\n",
    "                    this.right.addNode(val)\n",
    "                else:\n",
    "                    this.right = BST(val)\n",
    "\n",
    "    \n",
    "\n",
    "    def inOrderTraversal(this,root):\n",
    "        \n",
    "        arr = []\n",
    "        if root:\n",
    "            arr = this.inOrderTraversal(root.left)\n",
    "            arr.append(root.val)\n",
    "            arr = arr + this.inOrderTraversal(root.right)\n",
    "        return arr\n",
    "    \n",
    "    def preOrderTraversal(this,root):\n",
    "        arr = []\n",
    "        if root:\n",
    "            \n",
    "            arr.append(root.val)\n",
    "            arr += this.preOrderTraversal(root.left)\n",
    "            arr += this.preOrderTraversal(root.right)\n",
    "        \n",
    "        return arr\n",
    "        \n",
    "    def postOrderTraversal(this,root):\n",
    "        arr = []\n",
    "        if root:\n",
    "            \n",
    "            arr += this.postOrderTraversal(root.left)\n",
    "            arr += this.postOrderTraversal(root.right)\n",
    "            arr.append(root.val)\n",
    "        return arr\n",
    "    \n",
    "    def spiralOrderTraversal(this,root):\n",
    "        arr = []\n",
    "        dq = deque()\n",
    "        dq.append(None)\n",
    "        leftToRight = False\n",
    "        if root:\n",
    "            dq.append(root)\n",
    "            while len(dq) > 1:\n",
    "                \n",
    "                \n",
    "                \n",
    "                if leftToRight == False:\n",
    "                    current = dq.pop()\n",
    "                    arr.append(current.val)\n",
    "                    if current.right:\n",
    "                        dq.appendleft(current.right)\n",
    "                    if current.left:\n",
    "                        dq.appendleft(current.left)\n",
    "                else:\n",
    "                    current = dq.popleft()\n",
    "                    arr.append(current.val)\n",
    "                    if current.left:\n",
    "                        dq.append(current.left)\n",
    "                    if current.right:\n",
    "                        dq.append(current.right)\n",
    "                \n",
    "                if dq[-1] is None and leftToRight == False:\n",
    "                    leftToRight = True\n",
    "                elif dq[0] is None and leftToRight == True:\n",
    "                    leftToRight = False\n",
    "        return arr\n",
    "                    \n",
    "    def LCA(this,root,p,q):\n",
    "        if root:\n",
    "            \n",
    "            if root.val == p or root.val == q:\n",
    "                return root\n",
    "            \n",
    "            left = this.LCA(root.left,p,q)\n",
    "            right = this.LCA(root.right,p,q)\n",
    "\n",
    "            \n",
    "            if left is not None and right is not None:\n",
    "\n",
    "                return root.val\n",
    "            if left is None:\n",
    "                return right\n",
    "            if right is None:\n",
    "                return left\n",
    "    \n",
    "    def sumOfPaths(this,root,Sum,target):\n",
    "\n",
    "        if root:\n",
    "            #print(root.val)\n",
    "            if Sum > target:\n",
    "                return False\n",
    "            \n",
    "            elif Sum == target:\n",
    "                \n",
    "                return True\n",
    "            elif Sum < target:\n",
    "                Sum += root.val\n",
    "\n",
    "            left = this.sumOfPaths(root.left,Sum,target)\n",
    "            right = this.sumOfPaths(root.right,Sum,target)\n",
    "            if left == True  or right == True:\n",
    "                return True\n",
    "            return False\n",
    "            \n",
    "root = BST(20)\n",
    "root.addNode(10)\n",
    "root.addNode(30)\n",
    "root.addNode(8)\n",
    "root.addNode(12)\n",
    "root.addNode(28)\n",
    "root.addNode(32)\n",
    "root.addNode(4)\n",
    "root.addNode(9)\n",
    "root.addNode(11)\n",
    "root.addNode(13)        "
   ]
  },
  {
   "cell_type": "code",
   "execution_count": 3,
   "metadata": {},
   "outputs": [
    {
     "data": {
      "text/plain": [
       "True"
      ]
     },
     "execution_count": 3,
     "metadata": {},
     "output_type": "execute_result"
    }
   ],
   "source": [
    "root.sumOfPaths(root,0,42)"
   ]
  },
  {
   "cell_type": "markdown",
   "metadata": {},
   "source": [
    "                                       20\n",
    "                                  10         30\n",
    "                                8     12    28  32\n",
    "                              4   9  11 13  "
   ]
  },
  {
   "cell_type": "markdown",
   "metadata": {},
   "source": [
    "            20\n",
    "                23\n",
    "          19   22   33\n",
    "         13        30 37\n",
    "        10\n",
    "       4  12\n",
    "      2  11\n",
    "     1 3"
   ]
  },
  {
   "cell_type": "code",
   "execution_count": 4,
   "metadata": {},
   "outputs": [
    {
     "data": {
      "text/plain": [
       "20"
      ]
     },
     "execution_count": 4,
     "metadata": {},
     "output_type": "execute_result"
    }
   ],
   "source": [
    "root.LCA(root,4,32)"
   ]
  },
  {
   "cell_type": "code",
   "execution_count": 5,
   "metadata": {},
   "outputs": [
    {
     "data": {
      "text/plain": [
       "[4, 8, 9, 10, 11, 12, 13, 20, 28, 30, 32]"
      ]
     },
     "execution_count": 5,
     "metadata": {},
     "output_type": "execute_result"
    }
   ],
   "source": [
    "root.inOrderTraversal(root)"
   ]
  },
  {
   "cell_type": "code",
   "execution_count": 6,
   "metadata": {},
   "outputs": [
    {
     "data": {
      "text/plain": [
       "[20, 10, 8, 4, 9, 12, 11, 13, 30, 28, 32]"
      ]
     },
     "execution_count": 6,
     "metadata": {},
     "output_type": "execute_result"
    }
   ],
   "source": [
    "root.preOrderTraversal(root)"
   ]
  },
  {
   "cell_type": "code",
   "execution_count": 7,
   "metadata": {},
   "outputs": [
    {
     "data": {
      "text/plain": [
       "[4, 9, 8, 11, 13, 12, 10, 28, 32, 30, 20]"
      ]
     },
     "execution_count": 7,
     "metadata": {},
     "output_type": "execute_result"
    }
   ],
   "source": [
    "root.postOrderTraversal(root)"
   ]
  },
  {
   "cell_type": "code",
   "execution_count": 8,
   "metadata": {},
   "outputs": [
    {
     "data": {
      "text/plain": [
       "[4, 8, 9, 10, 11, 12, 13, 20, 28, 30, 32]"
      ]
     },
     "execution_count": 8,
     "metadata": {},
     "output_type": "execute_result"
    }
   ],
   "source": [
    "root.inOrderTraversal(root)"
   ]
  },
  {
   "cell_type": "code",
   "execution_count": 9,
   "metadata": {},
   "outputs": [
    {
     "data": {
      "text/plain": [
       "[20, 10, 30, 32, 28, 12, 8, 4, 9, 11, 13]"
      ]
     },
     "execution_count": 9,
     "metadata": {},
     "output_type": "execute_result"
    }
   ],
   "source": [
    "root.spiralOrderTraversal(root)"
   ]
  },
  {
   "cell_type": "markdown",
   "metadata": {},
   "source": [
    "# Implement hashmap"
   ]
  },
  {
   "cell_type": "code",
   "execution_count": 10,
   "metadata": {},
   "outputs": [],
   "source": [
    "class Hash_Map():\n",
    "    def __init__(this):\n",
    "        this.hashMap = [[] for i in range(0,256)]\n",
    "    \n",
    "    def insert(this,key,val):\n",
    "        hashKey = hash(key) % len(this.hashMap)\n",
    "        bucket = this.hashMap[hashKey]\n",
    "        keyPresent = False\n",
    "        for i,kv in enumerate(bucket):\n",
    "            if kv[0] == key:\n",
    "                \n",
    "               keyPresent = True\n",
    "        \n",
    "        if keyPresent == True:\n",
    "            bucket[i] = ((key,val))\n",
    "        else:\n",
    "            bucket.append((key,val))\n",
    "    \n",
    "    def retrieve(this,key):\n",
    "        hashKey = hash(key) % len(this.hashMap)\n",
    "        bucket =  this.hashMap[hashKey]\n",
    "        \n",
    "        for i,kv in enumerate(bucket):\n",
    "            if kv[0] == key:\n",
    "                return kv[1]\n",
    "        \n",
    "        return \"Key not found\"\n",
    "        "
   ]
  },
  {
   "cell_type": "code",
   "execution_count": 11,
   "metadata": {},
   "outputs": [],
   "source": [
    "hashMap = Hash_Map()"
   ]
  },
  {
   "cell_type": "code",
   "execution_count": 12,
   "metadata": {},
   "outputs": [],
   "source": [
    "\n",
    "hashMap.insert(1,\"abc\")\n",
    "hashMap.insert(12,\"adbc\")\n",
    "hashMap.insert(5,\"abcg\")\n",
    "hashMap.insert(13,\"abnc\")\n",
    "hashMap.insert(13,\"xyz\")"
   ]
  },
  {
   "cell_type": "code",
   "execution_count": 13,
   "metadata": {},
   "outputs": [
    {
     "data": {
      "text/plain": [
       "'xyz'"
      ]
     },
     "execution_count": 13,
     "metadata": {},
     "output_type": "execute_result"
    }
   ],
   "source": [
    "hashMap.retrieve(13)"
   ]
  },
  {
   "cell_type": "markdown",
   "metadata": {},
   "source": [
    "# deck of cards"
   ]
  },
  {
   "cell_type": "code",
   "execution_count": 14,
   "metadata": {},
   "outputs": [],
   "source": [
    "\n",
    "class cards():\n",
    "    def __init__(this):\n",
    "        pass\n",
    "    \n",
    "    def card(this):\n",
    "        this.number = None\n",
    "        this.shape = None\n",
    "        this.color = None\n",
    "        return this\n",
    "        \n",
    "    def numberCards(this):\n",
    "        dic = {}\n",
    "        dic[1]  = \"Ace\"\n",
    "        for i in range(2,11):\n",
    "            dic[i] = i\n",
    "        dic[11] = \"J\"\n",
    "        dic[12] = \"Q\"\n",
    "        dic[13] = \"K\"\n",
    "        return dic\n",
    "        \n",
    "    def cardShapes(this):\n",
    "        dic = {}\n",
    "        dic[0] = \"spade\"\n",
    "        dic[1] = \"diamond\"\n",
    "        dic[3] = \"heart\"\n",
    "        dic[4] = \"flower\"\n",
    "        return dic\n",
    "        \n",
    "    def cardColors(this):\n",
    "        dic = {}\n",
    "        dic[0] = \"red\"\n",
    "        dic[1] = \"black\"\n",
    "        return dic\n",
    "        \n",
    "        \n",
    "    def createDeck(this):\n",
    "        \n",
    "        nums = this.numberCards()\n",
    "        shape = this.cardShapes()\n",
    "        color = this.cardColors()\n",
    "        deck = []\n",
    "        for i in nums.keys():\n",
    "            card = this.card()\n",
    "            card.number = nums[i]\n",
    "        for i  in shape.keys():\n",
    "            card.shape = shape[i]\n",
    "            \n",
    "\n",
    "    \n",
    "        print(deck)"
   ]
  },
  {
   "cell_type": "code",
   "execution_count": 15,
   "metadata": {},
   "outputs": [
    {
     "name": "stdout",
     "output_type": "stream",
     "text": [
      "[]\n"
     ]
    }
   ],
   "source": [
    "c = cards()\n",
    "c.createDeck()"
   ]
  },
  {
   "cell_type": "markdown",
   "metadata": {},
   "source": [
    "# Quick sort"
   ]
  },
  {
   "cell_type": "code",
   "execution_count": 16,
   "metadata": {},
   "outputs": [],
   "source": [
    "def quickSort(arr,low,high):\n",
    "    if low < high:\n",
    "        pi = partition(arr,low,high)\n",
    "        quickSort(arr,low,pi-1)\n",
    "        quickSort(arr,pi+1,high)\n",
    "    \n",
    "def partition(arr,low,high):\n",
    "    print(arr)\n",
    "    pivot = arr[high]\n",
    "    i = low -1 \n",
    "    print(i)\n",
    "    for j in range(low,high):\n",
    "        \n",
    "        if arr[j] < pivot:\n",
    "            i = i+1\n",
    "            arr[j],arr[i] = arr[i],arr[j]\n",
    "        \n",
    "    arr[i+1],arr[high] = arr[high],arr[i+1]\n",
    "    return i+1\n",
    "        "
   ]
  },
  {
   "cell_type": "code",
   "execution_count": 17,
   "metadata": {},
   "outputs": [
    {
     "name": "stdout",
     "output_type": "stream",
     "text": [
      "[10, 7, 8, 9, 1, 5]\n",
      "-1\n",
      "[1, 5, 8, 9, 10, 7]\n",
      "1\n",
      "[1, 5, 7, 9, 10, 8]\n",
      "2\n",
      "[1, 5, 7, 8, 10, 9]\n",
      "3\n"
     ]
    }
   ],
   "source": [
    "# Driver code to test above \n",
    "arr = [10, 7, 8, 9, 1, 5] \n",
    "n = len(arr) \n",
    "quickSort(arr,0,n-1)"
   ]
  },
  {
   "cell_type": "code",
   "execution_count": 18,
   "metadata": {},
   "outputs": [
    {
     "data": {
      "text/plain": [
       "[1, 5, 7, 8, 9, 10]"
      ]
     },
     "execution_count": 18,
     "metadata": {},
     "output_type": "execute_result"
    }
   ],
   "source": [
    "arr"
   ]
  },
  {
   "cell_type": "markdown",
   "metadata": {},
   "source": [
    "# Mergesort\n"
   ]
  },
  {
   "cell_type": "code",
   "execution_count": 27,
   "metadata": {},
   "outputs": [],
   "source": [
    "def mergeSort(arr):\n",
    "    if len(arr)>1:\n",
    "        middle = int(len(arr)/2)\n",
    "        left = arr[:middle]\n",
    "        right = arr[middle:]\n",
    "\n",
    "        mergeSort(left)\n",
    "        mergeSort(right)\n",
    "        \n",
    "        arr.clear()\n",
    "\n",
    "        while len(left) > 0 and len(right)> 0:\n",
    "            if left[0] < right[0]:\n",
    "                arr.append(left.pop(0))\n",
    "            else:\n",
    "                arr.append(right.pop(0))\n",
    "        \n",
    "        for i in left:\n",
    "            arr.append(left.pop(0))\n",
    "        \n",
    "        for i in right:\n",
    "            arr.append(right.pop(0))\n",
    "    \n",
    "    "
   ]
  },
  {
   "cell_type": "code",
   "execution_count": 283,
   "metadata": {},
   "outputs": [],
   "source": [
    "# Driver code to test above \n",
    "arr = [10, 7, 8, 9, 1, 5] \n",
    "n = len(arr) \n",
    "mergeSort(arr)"
   ]
  },
  {
   "cell_type": "code",
   "execution_count": 284,
   "metadata": {},
   "outputs": [
    {
     "data": {
      "text/plain": [
       "[1, 5, 7, 8, 9, 10]"
      ]
     },
     "execution_count": 284,
     "metadata": {},
     "output_type": "execute_result"
    }
   ],
   "source": [
    "arr"
   ]
  },
  {
   "cell_type": "markdown",
   "metadata": {},
   "source": [
    "# selection sort"
   ]
  },
  {
   "cell_type": "code",
   "execution_count": 287,
   "metadata": {},
   "outputs": [],
   "source": [
    "# Traverse through all array elements \n",
    "A = arr\n",
    "for i in range(len(A)): \n",
    "      \n",
    "    # Find the minimum element in remaining  \n",
    "    # unsorted array \n",
    "    min_idx = i \n",
    "    for j in range(i+1, len(A)): \n",
    "        if A[min_idx] > A[j]: \n",
    "            min_idx = j \n",
    "              \n",
    "    # Swap the found minimum element with  \n",
    "    # the first element         \n",
    "    A[i], A[min_idx] = A[min_idx], A[i] \n",
    "  "
   ]
  },
  {
   "cell_type": "markdown",
   "metadata": {},
   "source": [
    "# bubble sort"
   ]
  },
  {
   "cell_type": "code",
   "execution_count": 288,
   "metadata": {},
   "outputs": [],
   "source": [
    "def bubbleSort(arr): \n",
    "    n = len(arr) \n",
    "  \n",
    "    # Traverse through all array elements \n",
    "    for i in range(n-1): \n",
    "    # range(n) also work but outer loop will repeat one time more than needed. \n",
    "  \n",
    "        # Last i elements are already in place \n",
    "        for j in range(0, n-i-1): \n",
    "  \n",
    "            # traverse the array from 0 to n-i-1 \n",
    "            # Swap if the element found is greater \n",
    "            # than the next element \n",
    "            if arr[j] > arr[j+1] : \n",
    "                arr[j], arr[j+1] = arr[j+1], arr[j] "
   ]
  },
  {
   "cell_type": "markdown",
   "metadata": {},
   "source": [
    "# LinkedList"
   ]
  },
  {
   "cell_type": "code",
   "execution_count": 276,
   "metadata": {},
   "outputs": [],
   "source": [
    "class Node():\n",
    "    def __init__(this,val):\n",
    "        this.val = val\n",
    "        this.nextNode = None"
   ]
  },
  {
   "cell_type": "code",
   "execution_count": 277,
   "metadata": {},
   "outputs": [],
   "source": [
    "class singleLinkedList():\n",
    "    def __init__(this,val):\n",
    "        \n",
    "        this.head = Node(val)\n",
    "    \n",
    "    def insert(this,val):\n",
    "        current = this.head\n",
    "        while current.nextNode:\n",
    "            current = current.nextNode\n",
    "        current.nextNode = Node(val)\n",
    "        \n",
    "    def displayHead(this):\n",
    "        return this.head.val\n",
    "    \n",
    "    def display(this):\n",
    "        current = this.head\n",
    "        arr = []\n",
    "        arr.append(current.val)\n",
    "        while current.nextNode:\n",
    "            current = current.nextNode\n",
    "            arr.append(current.val)\n",
    "        \n",
    "        return arr\n",
    "    \n",
    "    def reverseLinkedList(this):\n",
    "        prev = None\n",
    "        current = this.head\n",
    "        \n",
    "        \n",
    "        while current:\n",
    "            nextNode = current.nextNode\n",
    "            current.nextNode = prev\n",
    "            prev  = current\n",
    "            current = nextNode\n",
    "        this.head = prev\n",
    "        \n",
    "    def swapElements(this):\n",
    "        prev = None\n",
    "        current = this.head\n",
    "        while current.next:\n",
    "            nextNode = current.next\n",
    "            #current.next = prev\n",
    "                     "
   ]
  },
  {
   "cell_type": "code",
   "execution_count": 278,
   "metadata": {},
   "outputs": [],
   "source": [
    "LL = singleLinkedList(2)\n"
   ]
  },
  {
   "cell_type": "code",
   "execution_count": 279,
   "metadata": {},
   "outputs": [],
   "source": [
    "LL.insert(3)\n",
    "LL.insert(4)\n",
    "LL.insert(5)\n",
    "LL.insert(6)\n",
    "LL.insert(7)"
   ]
  },
  {
   "cell_type": "code",
   "execution_count": 280,
   "metadata": {},
   "outputs": [
    {
     "data": {
      "text/plain": [
       "[2, 3, 4, 5, 6, 7]"
      ]
     },
     "execution_count": 280,
     "metadata": {},
     "output_type": "execute_result"
    }
   ],
   "source": [
    "LL.display()"
   ]
  },
  {
   "cell_type": "code",
   "execution_count": 281,
   "metadata": {},
   "outputs": [
    {
     "data": {
      "text/plain": [
       "2"
      ]
     },
     "execution_count": 281,
     "metadata": {},
     "output_type": "execute_result"
    }
   ],
   "source": [
    "LL.displayHead()"
   ]
  },
  {
   "cell_type": "code",
   "execution_count": 57,
   "metadata": {},
   "outputs": [],
   "source": [
    "LL.reverseLinkedList()"
   ]
  },
  {
   "cell_type": "code",
   "execution_count": 111,
   "metadata": {},
   "outputs": [],
   "source": [
    "def quickSort(arr,low,high):\n",
    "    if low < high:\n",
    "        pi = partition(arr,low,high)\n",
    "        \n",
    "        quickSort(arr,low,pi-1)\n",
    "        quickSort(arr,pi+1,high)\n",
    "    \n",
    "def partition(arr,low,high):\n",
    "    pivot = arr[high]\n",
    "\n",
    "    i = low-1\n",
    "    for j in range(low,high):\n",
    "        if arr[j] < pivot:\n",
    "            i = i+1\n",
    "            arr[j],arr[i] = arr[i],arr[j]\n",
    "\n",
    "    arr[i+1],arr[high] = arr[high],arr[i+1]\n",
    "    return i+1\n",
    "\n"
   ]
  },
  {
   "cell_type": "code",
   "execution_count": 112,
   "metadata": {},
   "outputs": [
    {
     "data": {
      "text/plain": [
       "[1, 3, 6, 9]"
      ]
     },
     "execution_count": 112,
     "metadata": {},
     "output_type": "execute_result"
    }
   ],
   "source": [
    "arr = [3,6,1,9]\n",
    "m = quickSort(arr,0,len(arr)-1)\n",
    "arr"
   ]
  },
  {
   "cell_type": "code",
   "execution_count": 88,
   "metadata": {},
   "outputs": [],
   "source": [
    "def mergeSort(arr):\n",
    "\n",
    "    if len(arr) > 1:\n",
    "        mid = int(len(arr)/2)\n",
    "        l = arr[:mid]\n",
    "        r = arr[mid:]\n",
    "        \n",
    "        mergeSort(l)\n",
    "        mergeSort(r)\n",
    "        \n",
    "        arr.clear()\n",
    "        while len(l) > 0 and len(r) > 0:\n",
    "            if l[0] < r[0]:\n",
    "                arr.append(l.pop(0))\n",
    "            else:\n",
    "                arr.append(r.pop(0))\n",
    "            \n",
    "        for i in l:\n",
    "            arr.append(l.pop(0))\n",
    "        for i in r:\n",
    "            arr.append(r.pop(0))\n",
    "    "
   ]
  },
  {
   "cell_type": "code",
   "execution_count": 89,
   "metadata": {},
   "outputs": [
    {
     "data": {
      "text/plain": [
       "[1, 3, 6, 9]"
      ]
     },
     "execution_count": 89,
     "metadata": {},
     "output_type": "execute_result"
    }
   ],
   "source": [
    "arr = [3,6,1,9]\n",
    "m = mergeSort(arr)\n",
    "arr"
   ]
  },
  {
   "cell_type": "markdown",
   "metadata": {},
   "source": [
    "# topological sorting"
   ]
  },
  {
   "cell_type": "code",
   "execution_count": 162,
   "metadata": {},
   "outputs": [],
   "source": [
    "from collections import defaultdict,deque\n",
    "dic = {\n",
    "    3:[1],\n",
    "    1:[2],\n",
    "    2:[4],\n",
    "    4:[5,6,7],\n",
    "    6:[9]\n",
    "}\n",
    "\n",
    "defaultDic = defaultdict(list,dic)"
   ]
  },
  {
   "cell_type": "code",
   "execution_count": 184,
   "metadata": {},
   "outputs": [],
   "source": [
    "result = []\n",
    "def topologicalSort(defaultDic):\n",
    "    visited = []\n",
    "    \n",
    "    for key in defaultDic.keys():\n",
    "        dfs(key,visited)\n",
    "           \n",
    "    return result\n",
    "\n",
    "def dfs(key,visited):\n",
    "    #print(visited)\n",
    "    if key in visited:\n",
    "        return\n",
    "    visited.append(key)\n",
    "    for neighbour in defaultDic[key]:\n",
    "        \n",
    "        \n",
    "        dfs(neighbour,visited)\n",
    "        result.append(neighbour)\n",
    "        #print(result)\n",
    "    "
   ]
  },
  {
   "cell_type": "code",
   "execution_count": 185,
   "metadata": {},
   "outputs": [
    {
     "data": {
      "text/plain": [
       "[5, 9, 6, 7, 4, 2, 1]"
      ]
     },
     "execution_count": 185,
     "metadata": {},
     "output_type": "execute_result"
    }
   ],
   "source": [
    "topologicalSort(defaultDic)"
   ]
  },
  {
   "cell_type": "code",
   "execution_count": null,
   "metadata": {},
   "outputs": [],
   "source": []
  },
  {
   "cell_type": "markdown",
   "metadata": {},
   "source": [
    "# building swap"
   ]
  },
  {
   "cell_type": "code",
   "execution_count": 271,
   "metadata": {},
   "outputs": [],
   "source": [
    "from collections import defaultdict,deque\n",
    "\n",
    "que = []\n",
    "visited = []\n",
    "visitedKey = []\n",
    "def buildingSwaps():\n",
    "    arr = [(\"Alex\",1,2),(\"Ben\",2,1),(\"Chris\",1,2),(\"David\",2,3),(\"Ellen\",3,1),(\"Frank\",4,5)]\n",
    "    dic = defaultdict(list)\n",
    "    \n",
    "    for i in arr:\n",
    "        dic[i[1]].append((i[0],i[1],i[2]))\n",
    "        \n",
    "    \n",
    "    print(dic)\n",
    "    for key in dic.keys():\n",
    "        \n",
    "        dfs(dic,key)\n",
    "    print(\"que :\",que)\n",
    "    \n",
    "def dfs(dic,key):\n",
    "    if key in visitedKey:\n",
    "        return\n",
    "    visitedKey.append(key)\n",
    "    \n",
    "    for neighbour in dic[key]:\n",
    "        for i,q in enumerate(que):\n",
    "            \n",
    "            if q[1] == neighbour[2] and q[2] == neighbour[1]:\n",
    "                print((q,neighbour))\n",
    "                visited.append(que.pop(i))\n",
    "                visited.append(neighbour)\n",
    "                \n",
    "        if neighbour not in visited:\n",
    "            \n",
    "            que.append(neighbour)\n",
    "            visited.append(neighbour)\n",
    "        \n",
    "                    \n",
    "        dfs(dic,neighbour[1])\n",
    "        \n",
    "        \n",
    "    "
   ]
  },
  {
   "cell_type": "code",
   "execution_count": 272,
   "metadata": {},
   "outputs": [
    {
     "name": "stdout",
     "output_type": "stream",
     "text": [
      "defaultdict(<class 'list'>, {1: [('Alex', 1, 2), ('Chris', 1, 2)], 2: [('Ben', 2, 1), ('David', 2, 3)], 3: [('Ellen', 3, 1)], 4: [('Frank', 4, 5)]})\n",
      "(('Alex', 1, 2), ('Ben', 2, 1))\n",
      "que : [('Chris', 1, 2), ('David', 2, 3), ('Ellen', 3, 1), ('Frank', 4, 5)]\n"
     ]
    }
   ],
   "source": [
    "buildingSwaps()"
   ]
  },
  {
   "cell_type": "code",
   "execution_count": 275,
   "metadata": {},
   "outputs": [
    {
     "data": {
      "text/plain": [
       "Counter({1: 4, 2: 1, 3: 2, 4: 5})"
      ]
     },
     "execution_count": 275,
     "metadata": {},
     "output_type": "execute_result"
    }
   ],
   "source": [
    "from collections import Counter\n",
    "arr = [1,1,1,1,2,3,3,4,4,4,4,4]\n",
    "Counter(arr)"
   ]
  },
  {
   "cell_type": "code",
   "execution_count": null,
   "metadata": {},
   "outputs": [],
   "source": []
  },
  {
   "cell_type": "markdown",
   "metadata": {},
   "source": [
    "# min distance between 2 points"
   ]
  },
  {
   "cell_type": "code",
   "execution_count": 54,
   "metadata": {},
   "outputs": [],
   "source": [
    "input = [(3,3),(5,-12),(-2,4),(0,5),(9,-4),(-22,6)]"
   ]
  },
  {
   "cell_type": "markdown",
   "metadata": {},
   "source": [
    "# critical nodes"
   ]
  },
  {
   "cell_type": "code",
   "execution_count": 62,
   "metadata": {},
   "outputs": [],
   "source": [
    "arr = [[0, 1], [0, 2], [1, 3], [2, 3], [2, 5], [5, 6], [3, 4]]"
   ]
  },
  {
   "cell_type": "code",
   "execution_count": 65,
   "metadata": {},
   "outputs": [],
   "source": [
    "dic = defaultdict(list)\n",
    "for i in arr:\n",
    "    dic[i[0]].append(i[1])\n",
    "    dic[i[1]].append(i[0])"
   ]
  },
  {
   "cell_type": "code",
   "execution_count": 66,
   "metadata": {},
   "outputs": [
    {
     "name": "stdout",
     "output_type": "stream",
     "text": [
      "defaultdict(<class 'list'>, {0: [1, 2], 1: [0, 3], 2: [0, 3, 5], 3: [1, 2, 4], 5: [2, 6], 6: [5], 4: [3]})\n"
     ]
    }
   ],
   "source": [
    "print(dic)"
   ]
  },
  {
   "cell_type": "code",
   "execution_count": 290,
   "metadata": {},
   "outputs": [
    {
     "data": {
      "text/plain": [
       "[-1, -1, -1, -1]"
      ]
     },
     "execution_count": 290,
     "metadata": {},
     "output_type": "execute_result"
    }
   ],
   "source": [
    "[-1 for i in range(0,4)]"
   ]
  },
  {
   "cell_type": "code",
   "execution_count": 7,
   "metadata": {},
   "outputs": [],
   "source": [
    "d = [False] * 10"
   ]
  },
  {
   "cell_type": "code",
   "execution_count": 13,
   "metadata": {},
   "outputs": [
    {
     "data": {
      "text/plain": [
       "True"
      ]
     },
     "execution_count": 13,
     "metadata": {},
     "output_type": "execute_result"
    }
   ],
   "source": [
    "\"abcde\".startswith(\"abc\") "
   ]
  },
  {
   "cell_type": "markdown",
   "metadata": {},
   "source": [
    "# Fav Genres"
   ]
  },
  {
   "cell_type": "code",
   "execution_count": 45,
   "metadata": {},
   "outputs": [],
   "source": [
    "from collections import defaultdict,Counter\n",
    "\n",
    "userSongs = {  \n",
    "   \"David\": [\"song1\", \"song2\", \"song3\", \"song4\", \"song8\"],\n",
    "   \"Emma\":  [\"song5\", \"song6\", \"song7\"]\n",
    "}\n",
    "\n",
    "songGenres = {  \n",
    "   \"Rock\":    [\"song1\", \"song3\"],\n",
    "   \"Dubstep\": [\"song7\"],\n",
    "   \"Techno\":  [\"song2\", \"song4\"],\n",
    "   \"Pop\":     [\"song5\", \"song6\",\"song1\"],\n",
    "   \"Jazz\":    [\"song8\", \"song9\"]\n",
    "}\n"
   ]
  },
  {
   "cell_type": "code",
   "execution_count": 59,
   "metadata": {},
   "outputs": [
    {
     "name": "stdout",
     "output_type": "stream",
     "text": [
      "['song1', 'song2', 'song3', 'song4', 'song8']\n",
      "['song5', 'song6', 'song7']\n"
     ]
    }
   ],
   "source": [
    "for i in userSongs:\n",
    "    list=userSongs[i]\n",
    "    print(list)"
   ]
  },
  {
   "cell_type": "code",
   "execution_count": 62,
   "metadata": {},
   "outputs": [],
   "source": [
    "def favGenres(userSongs, songGenres):\n",
    "    output={}\n",
    "    for i in userSongs:\n",
    "        list=userSongs[i]\n",
    "        count=defaultdict(int)\n",
    "        for j in list:\n",
    "            for k,v in songGenres.items():\n",
    "                if j in v:\n",
    "                    count[k]+=1\n",
    "\n",
    "        print(count)\n",
    "        output[i]=[key for key,val in count.items() if val == max(count.values())]\n",
    "                \n",
    "    \n",
    "    return output"
   ]
  },
  {
   "cell_type": "code",
   "execution_count": 46,
   "metadata": {},
   "outputs": [],
   "source": [
    "dic = defaultdict(list)\n",
    "for i in songGenres.keys():\n",
    "    for j in songGenres[i]:\n",
    "        dic[j].append(i)"
   ]
  },
  {
   "cell_type": "code",
   "execution_count": 49,
   "metadata": {},
   "outputs": [
    {
     "name": "stdout",
     "output_type": "stream",
     "text": [
      "[['Rock', 'Pop'], ['Techno'], ['Rock'], ['Techno'], ['Jazz']]\n",
      "[['Pop'], ['Pop'], ['Dubstep']]\n"
     ]
    }
   ],
   "source": [
    "\n",
    "for i in userSongs.keys():\n",
    "    ans = []\n",
    "    for j in userSongs[i]:\n",
    "        ans.append(dic[j])\n",
    "        \n",
    "    print(ans)"
   ]
  },
  {
   "cell_type": "markdown",
   "metadata": {},
   "source": [
    "# copy list random pointers"
   ]
  },
  {
   "cell_type": "code",
   "execution_count": 65,
   "metadata": {},
   "outputs": [],
   "source": [
    "from collections import defaultdict\n",
    "\n",
    "def createDeepCopy(self,head: 'Node'):\n",
    "    if head is None:\n",
    "        return None\n",
    "    \n",
    "    if head in self.hashmap:\n",
    "        return self.hashmap[head]\n",
    "    \n",
    "    node = Node(head.val,None,None)\n",
    "    \n",
    "    self.hashmap[head] = node\n",
    "    \n",
    "    node.next = self.createDeepCopy(head.next)\n",
    "    node.random = self.createDeepCopy(head.random)\n",
    "    \n",
    "    return node\n",
    "\n",
    "def copyRandomList(self, head: 'Node') -> 'Node':\n",
    "    self.hashmap = defaultdict(list)\n",
    "    return self.createDeepCopy(head)"
   ]
  },
  {
   "cell_type": "code",
   "execution_count": 68,
   "metadata": {},
   "outputs": [
    {
     "data": {
      "text/plain": [
       "{'a': 0, 'b': 3, 'c': 4, 'd': 5, 'e': 6}"
      ]
     },
     "execution_count": 68,
     "metadata": {},
     "output_type": "execute_result"
    }
   ],
   "source": [
    "{c:i for i,c in enumerate(\"abcbcde\")}"
   ]
  },
  {
   "cell_type": "code",
   "execution_count": 76,
   "metadata": {},
   "outputs": [
    {
     "data": {
      "text/plain": [
       "{'a': 5, 'b': 1, 'c': 2, 'd': 3, 'e': 4}"
      ]
     },
     "execution_count": 76,
     "metadata": {},
     "output_type": "execute_result"
    }
   ],
   "source": [
    "{c:i for i,c in enumerate(\"abcdea\")}"
   ]
  },
  {
   "cell_type": "markdown",
   "metadata": {},
   "source": [
    "# Partition labels"
   ]
  },
  {
   "cell_type": "code",
   "execution_count": 79,
   "metadata": {},
   "outputs": [],
   "source": [
    "def partitionLabels(self, S: str):\n",
    "    result,ub=[],0\n",
    "    left=right=0\n",
    "    d={c:i for i,c in enumerate(S)}\n",
    "    print(d)\n",
    "    while left<len(S):\n",
    "        ub=max(ub, d[S[right]])\n",
    "        right+=1\n",
    "        if right>ub:\n",
    "            print(\"right:\",right)\n",
    "            print(\"ub:\",ub)\n",
    "            result.append(ub-left+1)\n",
    "            left=right\n",
    "    return result        "
   ]
  },
  {
   "cell_type": "markdown",
   "metadata": {},
   "source": [
    "# Movie length"
   ]
  },
  {
   "cell_type": "code",
   "execution_count": 284,
   "metadata": {},
   "outputs": [],
   "source": [
    "movieLength = [27, 1,10, 39, 12, 52, 32, 67, 76,0,77]\n",
    "movieLength.sort()\n",
    "\n",
    "        \n"
   ]
  },
  {
   "cell_type": "code",
   "execution_count": 289,
   "metadata": {},
   "outputs": [],
   "source": [
    "def getMovieLength(movieLength,target):\n",
    "    minDiff = max(movieLength)\n",
    "    result = [0]\n",
    "    for i in range(len(movieLength)):\n",
    "        for j in range(len(movieLength[0:i] + movieLength[i+1:])):\n",
    "\n",
    "            if target - (movieLength[i] + movieLength[j]) < minDiff and target - (movieLength[i] + movieLength[j]) >= 0:\n",
    "                result = []\n",
    "                result += [movieLength[i],movieLength[j]]\n",
    "            elif target - (movieLength[i] + movieLength[j]) == minDiff and target - (movieLength[i] + movieLength[j]) >= 0:\n",
    "                if max(result) < (movieLength[i] or movieLength[j]):\n",
    "                    result = []\n",
    "                    result += [movieLength[i],movieLength[j]]\n",
    "                \n",
    "    return result\n",
    "                    \n",
    "            \n",
    "    \n",
    "        "
   ]
  },
  {
   "cell_type": "code",
   "execution_count": 290,
   "metadata": {},
   "outputs": [
    {
     "data": {
      "text/plain": [
       "[77, 0]"
      ]
     },
     "execution_count": 290,
     "metadata": {},
     "output_type": "execute_result"
    }
   ],
   "source": [
    "getMovieLength(movieLength,77)"
   ]
  },
  {
   "cell_type": "code",
   "execution_count": 293,
   "metadata": {},
   "outputs": [],
   "source": [
    "def getMovieLength(movieLength,target):\n",
    "    minDiff = max(movieLength)\n",
    "    result = [0]\n",
    "    left = 0\n",
    "    right = 1\n",
    "    while left < len(movieLength) - 1:\n",
    "        \n",
    "        # calculate remaining time\n",
    "        cal = target - (movieLength[left] + movieLength[right])\n",
    "        \n",
    "        \n",
    "        if  cal < minDiff and cal >= 0:\n",
    "            result = []\n",
    "            minDiff = cal\n",
    "            result += [movieLength[left],movieLength[right]]\n",
    "        \n",
    "        elif  cal == minDiff:\n",
    "            \n",
    "            if (max(result)) < (movieLength[left] or movieLength[right]):\n",
    "                print(\"left\",movieLength[left])\n",
    "                print(\"right\",movieLength[right])\n",
    "                result = []\n",
    "                result += [movieLength[left],movieLength[right]]\n",
    "\n",
    "        right += 1\n",
    "        \n",
    "        #break condition\n",
    "        if right == len(movieLength) or cal < 0:\n",
    "            left += 1\n",
    "            right = left + 1\n",
    "    return result\n",
    "        \n",
    "            \n",
    "        \n",
    "            \n",
    "        "
   ]
  },
  {
   "cell_type": "code",
   "execution_count": 294,
   "metadata": {},
   "outputs": [
    {
     "data": {
      "text/plain": [
       "[0, 77]"
      ]
     },
     "execution_count": 294,
     "metadata": {},
     "output_type": "execute_result"
    }
   ],
   "source": [
    "getMovieLength(movieLength,77)"
   ]
  },
  {
   "cell_type": "markdown",
   "metadata": {},
   "source": [
    "# num decoding"
   ]
  },
  {
   "cell_type": "code",
   "execution_count": 295,
   "metadata": {},
   "outputs": [],
   "source": [
    "def numDecodings(self, s: str) -> int:\n",
    "    mapping = set([str(x) for x in range(1, 27)])\n",
    "    n = len(s)\n",
    "    if n == 1:\n",
    "        return int(s[0] in mapping)\n",
    "\n",
    "    T = [0] * n\n",
    "    T[0] = int(s[0] in mapping)\n",
    "    T[1] = (s[0] in mapping and s[1] in mapping) + (s[:2] in mapping)\n",
    "    for i in range(2, n):\n",
    "        T[i] = (s[i] in mapping) * T[i - 1] + (s[i-1:i+1] in mapping) * T[i - 2]\n",
    "\n",
    "    return T[-1]"
   ]
  },
  {
   "cell_type": "code",
   "execution_count": 2,
   "metadata": {},
   "outputs": [
    {
     "data": {
      "text/plain": [
       "(1, 2)"
      ]
     },
     "execution_count": 2,
     "metadata": {},
     "output_type": "execute_result"
    }
   ],
   "source": [
    "divmod(12,10)"
   ]
  },
  {
   "cell_type": "code",
   "execution_count": 2,
   "metadata": {},
   "outputs": [
    {
     "data": {
      "text/plain": [
       "[0, 0, 0, 0, 0]"
      ]
     },
     "execution_count": 2,
     "metadata": {},
     "output_type": "execute_result"
    }
   ],
   "source": [
    "[0]*5"
   ]
  },
  {
   "cell_type": "code",
   "execution_count": 5,
   "metadata": {},
   "outputs": [
    {
     "data": {
      "text/plain": [
       "2"
      ]
     },
     "execution_count": 5,
     "metadata": {},
     "output_type": "execute_result"
    }
   ],
   "source": [
    "21//10"
   ]
  },
  {
   "cell_type": "code",
   "execution_count": 7,
   "metadata": {},
   "outputs": [
    {
     "data": {
      "text/plain": [
       "(2, 1)"
      ]
     },
     "execution_count": 7,
     "metadata": {},
     "output_type": "execute_result"
    }
   ],
   "source": [
    "divmod(21,10)"
   ]
  },
  {
   "cell_type": "code",
   "execution_count": 8,
   "metadata": {},
   "outputs": [
    {
     "data": {
      "text/plain": [
       "1"
      ]
     },
     "execution_count": 8,
     "metadata": {},
     "output_type": "execute_result"
    }
   ],
   "source": [
    "21%10"
   ]
  },
  {
   "cell_type": "code",
   "execution_count": 9,
   "metadata": {},
   "outputs": [],
   "source": [
    "from collections import deque\n",
    "a = deque()"
   ]
  },
  {
   "cell_type": "code",
   "execution_count": 10,
   "metadata": {},
   "outputs": [
    {
     "data": {
      "text/plain": [
       "deque([])"
      ]
     },
     "execution_count": 10,
     "metadata": {},
     "output_type": "execute_result"
    }
   ],
   "source": [
    "a"
   ]
  },
  {
   "cell_type": "code",
   "execution_count": 13,
   "metadata": {},
   "outputs": [
    {
     "data": {
      "text/plain": [
       "51"
      ]
     },
     "execution_count": 13,
     "metadata": {},
     "output_type": "execute_result"
    }
   ],
   "source": [
    "ord(\"3\")"
   ]
  },
  {
   "cell_type": "code",
   "execution_count": null,
   "metadata": {},
   "outputs": [],
   "source": []
  }
 ],
 "metadata": {
  "kernelspec": {
   "display_name": "Python 3",
   "language": "python",
   "name": "python3"
  },
  "language_info": {
   "codemirror_mode": {
    "name": "ipython",
    "version": 3
   },
   "file_extension": ".py",
   "mimetype": "text/x-python",
   "name": "python",
   "nbconvert_exporter": "python",
   "pygments_lexer": "ipython3",
   "version": "3.7.4"
  }
 },
 "nbformat": 4,
 "nbformat_minor": 2
}
